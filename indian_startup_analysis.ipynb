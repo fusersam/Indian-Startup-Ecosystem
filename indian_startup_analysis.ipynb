{
 "cells": [
  {
   "cell_type": "markdown",
   "metadata": {},
   "source": [
    "# *****Indian Startup Ecosystem Analysis*****"
   ]
  },
  {
   "cell_type": "markdown",
   "metadata": {},
   "source": [
    "## ***Business Understanding***\n",
    "\n",
    "The period from 2018 to 2021 witnessed significant evolution in India's Startups. This project seeks to gain insights on patterns and trends in the data on funding, investment details and startup information. By leveraging on data analytics techniques and methods, we will touch on the effect that funding levels, business location and industry specialization has on the performance of startups. Understanding the dynamics of this ecosystem is crucial for businesses and investors seeking to capitalize on the opportunities within India's vibrant startup ecosystem"
   ]
  },
  {
   "cell_type": "markdown",
   "metadata": {},
   "source": [
    "Installing relevant libraries"
   ]
  },
  {
   "cell_type": "code",
   "execution_count": 112,
   "metadata": {},
   "outputs": [],
   "source": [
    "#%pip install pandas"
   ]
  },
  {
   "cell_type": "markdown",
   "metadata": {},
   "source": [
    "Importing relevant libraries"
   ]
  },
  {
   "cell_type": "code",
   "execution_count": 113,
   "metadata": {},
   "outputs": [],
   "source": [
    "import pandas as pd\n",
    "import numpy as np"
   ]
  },
  {
   "cell_type": "markdown",
   "metadata": {},
   "source": [
    "## 1. ***Data collection/ Data loading***"
   ]
  },
  {
   "cell_type": "code",
   "execution_count": 114,
   "metadata": {},
   "outputs": [],
   "source": [
    "df_2018 = pd.read_csv('startup_funding2018.csv')\n",
    "df_2019 = pd.read_csv('startup_funding2019.csv')\n",
    "df_2020 = pd.read_csv('startup_funding2020.csv')\n",
    "df_2021 = pd.read_csv('startup_funding2021.csv')"
   ]
  },
  {
   "cell_type": "markdown",
   "metadata": {},
   "source": [
    "## 2. ***Data Exploration***"
   ]
  },
  {
   "cell_type": "markdown",
   "metadata": {},
   "source": [
    "We would be exploring each dataset separately to understand it characteristics and clean where neccesary"
   ]
  },
  {
   "cell_type": "markdown",
   "metadata": {},
   "source": [
    "### ***2018 start-ups funds data exploration and cleaning***"
   ]
  },
  {
   "cell_type": "code",
   "execution_count": 115,
   "metadata": {},
   "outputs": [
    {
     "data": {
      "text/html": [
       "<div>\n",
       "<style scoped>\n",
       "    .dataframe tbody tr th:only-of-type {\n",
       "        vertical-align: middle;\n",
       "    }\n",
       "\n",
       "    .dataframe tbody tr th {\n",
       "        vertical-align: top;\n",
       "    }\n",
       "\n",
       "    .dataframe thead th {\n",
       "        text-align: right;\n",
       "    }\n",
       "</style>\n",
       "<table border=\"1\" class=\"dataframe\">\n",
       "  <thead>\n",
       "    <tr style=\"text-align: right;\">\n",
       "      <th></th>\n",
       "      <th>Company Name</th>\n",
       "      <th>Industry</th>\n",
       "      <th>Round/Series</th>\n",
       "      <th>Amount</th>\n",
       "      <th>Location</th>\n",
       "      <th>About Company</th>\n",
       "    </tr>\n",
       "  </thead>\n",
       "  <tbody>\n",
       "    <tr>\n",
       "      <th>0</th>\n",
       "      <td>TheCollegeFever</td>\n",
       "      <td>Brand Marketing, Event Promotion, Marketing, S...</td>\n",
       "      <td>Seed</td>\n",
       "      <td>250000</td>\n",
       "      <td>Bangalore, Karnataka, India</td>\n",
       "      <td>TheCollegeFever is a hub for fun, fiesta and f...</td>\n",
       "    </tr>\n",
       "    <tr>\n",
       "      <th>1</th>\n",
       "      <td>Happy Cow Dairy</td>\n",
       "      <td>Agriculture, Farming</td>\n",
       "      <td>Seed</td>\n",
       "      <td>₹40,000,000</td>\n",
       "      <td>Mumbai, Maharashtra, India</td>\n",
       "      <td>A startup which aggregates milk from dairy far...</td>\n",
       "    </tr>\n",
       "    <tr>\n",
       "      <th>2</th>\n",
       "      <td>MyLoanCare</td>\n",
       "      <td>Credit, Financial Services, Lending, Marketplace</td>\n",
       "      <td>Series A</td>\n",
       "      <td>₹65,000,000</td>\n",
       "      <td>Gurgaon, Haryana, India</td>\n",
       "      <td>Leading Online Loans Marketplace in India</td>\n",
       "    </tr>\n",
       "    <tr>\n",
       "      <th>3</th>\n",
       "      <td>PayMe India</td>\n",
       "      <td>Financial Services, FinTech</td>\n",
       "      <td>Angel</td>\n",
       "      <td>2000000</td>\n",
       "      <td>Noida, Uttar Pradesh, India</td>\n",
       "      <td>PayMe India is an innovative FinTech organizat...</td>\n",
       "    </tr>\n",
       "    <tr>\n",
       "      <th>4</th>\n",
       "      <td>Eunimart</td>\n",
       "      <td>E-Commerce Platforms, Retail, SaaS</td>\n",
       "      <td>Seed</td>\n",
       "      <td>—</td>\n",
       "      <td>Hyderabad, Andhra Pradesh, India</td>\n",
       "      <td>Eunimart is a one stop solution for merchants ...</td>\n",
       "    </tr>\n",
       "  </tbody>\n",
       "</table>\n",
       "</div>"
      ],
      "text/plain": [
       "      Company Name                                           Industry  \\\n",
       "0  TheCollegeFever  Brand Marketing, Event Promotion, Marketing, S...   \n",
       "1  Happy Cow Dairy                               Agriculture, Farming   \n",
       "2       MyLoanCare   Credit, Financial Services, Lending, Marketplace   \n",
       "3      PayMe India                        Financial Services, FinTech   \n",
       "4         Eunimart                 E-Commerce Platforms, Retail, SaaS   \n",
       "\n",
       "  Round/Series       Amount                          Location  \\\n",
       "0         Seed       250000       Bangalore, Karnataka, India   \n",
       "1         Seed  ₹40,000,000        Mumbai, Maharashtra, India   \n",
       "2     Series A  ₹65,000,000           Gurgaon, Haryana, India   \n",
       "3        Angel      2000000       Noida, Uttar Pradesh, India   \n",
       "4         Seed            —  Hyderabad, Andhra Pradesh, India   \n",
       "\n",
       "                                       About Company  \n",
       "0  TheCollegeFever is a hub for fun, fiesta and f...  \n",
       "1  A startup which aggregates milk from dairy far...  \n",
       "2          Leading Online Loans Marketplace in India  \n",
       "3  PayMe India is an innovative FinTech organizat...  \n",
       "4  Eunimart is a one stop solution for merchants ...  "
      ]
     },
     "execution_count": 115,
     "metadata": {},
     "output_type": "execute_result"
    }
   ],
   "source": [
    "# a view of the first 5 rows in the dataset\n",
    "\n",
    "df_2018.head()"
   ]
  },
  {
   "cell_type": "code",
   "execution_count": 116,
   "metadata": {},
   "outputs": [
    {
     "data": {
      "text/plain": [
       "Company Name     object\n",
       "Industry         object\n",
       "Round/Series     object\n",
       "Amount           object\n",
       "Location         object\n",
       "About Company    object\n",
       "dtype: object"
      ]
     },
     "execution_count": 116,
     "metadata": {},
     "output_type": "execute_result"
    }
   ],
   "source": [
    "# Checking the data types in the dataset\n",
    "\n",
    "df_2018.dtypes"
   ]
  },
  {
   "cell_type": "code",
   "execution_count": 117,
   "metadata": {},
   "outputs": [
    {
     "data": {
      "text/plain": [
       "Company Name     0\n",
       "Industry         0\n",
       "Round/Series     0\n",
       "Amount           0\n",
       "Location         0\n",
       "About Company    0\n",
       "dtype: int64"
      ]
     },
     "execution_count": 117,
     "metadata": {},
     "output_type": "execute_result"
    }
   ],
   "source": [
    "# Checking for missing values\n",
    "\n",
    "df_2018.isnull().sum()"
   ]
  },
  {
   "cell_type": "markdown",
   "metadata": {},
   "source": [
    "#### ***Checking the Company Name Column***"
   ]
  },
  {
   "cell_type": "code",
   "execution_count": 118,
   "metadata": {},
   "outputs": [
    {
     "data": {
      "text/plain": [
       "Company Name\n",
       "False    525\n",
       "True       1\n",
       "Name: count, dtype: int64"
      ]
     },
     "execution_count": 118,
     "metadata": {},
     "output_type": "execute_result"
    }
   ],
   "source": [
    "# Checking for duplicate in the company name column.\n",
    "\n",
    "df_2018['Company Name'].duplicated().value_counts()"
   ]
  },
  {
   "cell_type": "code",
   "execution_count": 119,
   "metadata": {},
   "outputs": [
    {
     "name": "stderr",
     "output_type": "stream",
     "text": [
      "C:\\Users\\Domino\\AppData\\Local\\Temp\\ipykernel_23116\\2047782274.py:3: UserWarning: Boolean Series key will be reindexed to match DataFrame index.\n",
      "  df_2018[df_2018['Company Name'].duplicated(keep= False).sort_values()]\n"
     ]
    },
    {
     "data": {
      "text/html": [
       "<div>\n",
       "<style scoped>\n",
       "    .dataframe tbody tr th:only-of-type {\n",
       "        vertical-align: middle;\n",
       "    }\n",
       "\n",
       "    .dataframe tbody tr th {\n",
       "        vertical-align: top;\n",
       "    }\n",
       "\n",
       "    .dataframe thead th {\n",
       "        text-align: right;\n",
       "    }\n",
       "</style>\n",
       "<table border=\"1\" class=\"dataframe\">\n",
       "  <thead>\n",
       "    <tr style=\"text-align: right;\">\n",
       "      <th></th>\n",
       "      <th>Company Name</th>\n",
       "      <th>Industry</th>\n",
       "      <th>Round/Series</th>\n",
       "      <th>Amount</th>\n",
       "      <th>Location</th>\n",
       "      <th>About Company</th>\n",
       "    </tr>\n",
       "  </thead>\n",
       "  <tbody>\n",
       "    <tr>\n",
       "      <th>0</th>\n",
       "      <td>TheCollegeFever</td>\n",
       "      <td>Brand Marketing, Event Promotion, Marketing, S...</td>\n",
       "      <td>Seed</td>\n",
       "      <td>250000</td>\n",
       "      <td>Bangalore, Karnataka, India</td>\n",
       "      <td>TheCollegeFever is a hub for fun, fiesta and f...</td>\n",
       "    </tr>\n",
       "    <tr>\n",
       "      <th>348</th>\n",
       "      <td>TheCollegeFever</td>\n",
       "      <td>Brand Marketing, Event Promotion, Marketing, S...</td>\n",
       "      <td>Seed</td>\n",
       "      <td>250000</td>\n",
       "      <td>Bangalore, Karnataka, India</td>\n",
       "      <td>TheCollegeFever is a hub for fun, fiesta and f...</td>\n",
       "    </tr>\n",
       "  </tbody>\n",
       "</table>\n",
       "</div>"
      ],
      "text/plain": [
       "        Company Name                                           Industry  \\\n",
       "0    TheCollegeFever  Brand Marketing, Event Promotion, Marketing, S...   \n",
       "348  TheCollegeFever  Brand Marketing, Event Promotion, Marketing, S...   \n",
       "\n",
       "    Round/Series  Amount                     Location  \\\n",
       "0           Seed  250000  Bangalore, Karnataka, India   \n",
       "348         Seed  250000  Bangalore, Karnataka, India   \n",
       "\n",
       "                                         About Company  \n",
       "0    TheCollegeFever is a hub for fun, fiesta and f...  \n",
       "348  TheCollegeFever is a hub for fun, fiesta and f...  "
      ]
     },
     "execution_count": 119,
     "metadata": {},
     "output_type": "execute_result"
    }
   ],
   "source": [
    "# spooling the details of duplicated value in the company name column\n",
    "\n",
    "df_2018[df_2018['Company Name'].duplicated(keep= False).sort_values()]"
   ]
  },
  {
   "cell_type": "markdown",
   "metadata": {},
   "source": [
    "***Observation***\n",
    "This is a clear case of duplication. Let's drop one of the duplicated rows"
   ]
  },
  {
   "cell_type": "code",
   "execution_count": 120,
   "metadata": {},
   "outputs": [
    {
     "data": {
      "text/plain": [
       "0"
      ]
     },
     "execution_count": 120,
     "metadata": {},
     "output_type": "execute_result"
    }
   ],
   "source": [
    "# Dropping duplicated row based on the column company name\n",
    "\n",
    "df_2018.drop_duplicates(subset= ['Company Name'], keep= 'first', inplace= True, ignore_index= True)\n",
    "\n",
    "df_2018.duplicated().sum()"
   ]
  },
  {
   "cell_type": "markdown",
   "metadata": {},
   "source": [
    "#### ***Checking the Industry Column***"
   ]
  },
  {
   "cell_type": "code",
   "execution_count": 121,
   "metadata": {},
   "outputs": [
    {
     "data": {
      "text/plain": [
       "485    Artificial Intelligence, Human Resources, Info...\n",
       "426                                Health Care, Hospital\n",
       "513                  Food and Beverage, Restaurants, Tea\n",
       "293                   Agriculture, AgTech, Manufacturing\n",
       "15           Automotive, Search Engine, Service Industry\n",
       "214                  Cloud Computing, Computer, Software\n",
       "451    Last Mile Transportation, Railroad, Transporta...\n",
       "259                                                    —\n",
       "367     Beauty, Cosmetics, Health Care, Service Industry\n",
       "238                                                    —\n",
       "199                      Internet, Marketplace, Shopping\n",
       "46                           Financial Services, Lending\n",
       "350    Continuing Education, EdTech, Education, Skill...\n",
       "496                       Internet, Knowledge Management\n",
       "30                Internet of Things, Telecommunications\n",
       "Name: Industry, dtype: object"
      ]
     },
     "execution_count": 121,
     "metadata": {},
     "output_type": "execute_result"
    }
   ],
   "source": [
    "# Checking the Industry column\n",
    "\n",
    "df_2018['Industry'].sample(15)"
   ]
  },
  {
   "cell_type": "markdown",
   "metadata": {},
   "source": [
    "***Observation***\n",
    "Sampling through the industry column the points below were worth noting\n",
    "\n",
    "- The Industry column featured sectors, subsectors among others. However, we are going to pick the first index which is predominantly sectors.\n",
    "- Furthermore, some were represented with \"-\". We will replace them with nan"
   ]
  },
  {
   "cell_type": "code",
   "execution_count": 122,
   "metadata": {},
   "outputs": [],
   "source": [
    "# Split the first index (sector) in the industry column from the others\n",
    "\n",
    "df_2018['Industry'] = df_2018.Industry.str.split(\",\").str[0]\n",
    "\n",
    "# Replacing \"-\" with nan\n",
    "\n",
    "df_2018['Industry'] = df_2018.Industry.replace(\"—\" ,  np.nan)"
   ]
  },
  {
   "cell_type": "code",
   "execution_count": 123,
   "metadata": {},
   "outputs": [
    {
     "data": {
      "text/plain": [
       "56           E-Commerce\n",
       "474          E-Commerce\n",
       "40     Renewable Energy\n",
       "43           E-Commerce\n",
       "81          Advertising\n",
       "482         Health Care\n",
       "524       Biotechnology\n",
       "77             Consumer\n",
       "298         Health Care\n",
       "511           Education\n",
       "84           E-Learning\n",
       "235                 NaN\n",
       "351        Smart Cities\n",
       "369              EdTech\n",
       "303      Cryptocurrency\n",
       "97            Logistics\n",
       "445          Accounting\n",
       "363        Crowdfunding\n",
       "477                 NaN\n",
       "325                 NaN\n",
       "Name: Industry, dtype: object"
      ]
     },
     "execution_count": 123,
     "metadata": {},
     "output_type": "execute_result"
    }
   ],
   "source": [
    "# Sampling the Industry section to verify changes\n",
    "\n",
    "df_2018['Industry'].sample(20)"
   ]
  },
  {
   "cell_type": "markdown",
   "metadata": {},
   "source": [
    "#### ***Checking the Round/ Series Column***"
   ]
  },
  {
   "cell_type": "code",
   "execution_count": 124,
   "metadata": {},
   "outputs": [
    {
     "data": {
      "text/plain": [
       "array(['Seed', 'Series A', 'Angel', 'Series B', 'Pre-Seed',\n",
       "       'Private Equity', 'Venture - Series Unknown', 'Grant',\n",
       "       'Debt Financing', 'Post-IPO Debt', 'Series H', 'Series C',\n",
       "       'Series E', 'Corporate Round', 'Undisclosed',\n",
       "       'https://docs.google.com/spreadsheets/d/1x9ziNeaz6auNChIHnMI8U6kS7knTr3byy_YBGfQaoUA/edit#gid=1861303593',\n",
       "       'Series D', 'Secondary Market', 'Post-IPO Equity',\n",
       "       'Non-equity Assistance', 'Funding Round'], dtype=object)"
      ]
     },
     "execution_count": 124,
     "metadata": {},
     "output_type": "execute_result"
    }
   ],
   "source": [
    "df_2018['Round/Series'].unique()"
   ]
  },
  {
   "cell_type": "markdown",
   "metadata": {},
   "source": [
    "***Observation***: A look into the unique values of the Round/ Series Column, we noticed two of the are not associated with the column\n",
    "- Undisclosed. Since the funding rounds were undisclosed we are going to rplace them with Nan\n",
    "- Accessing the link https://docs.google.com/spreadsheets/d/1x9ziNeaz6auNChIHnMI8U6kS7knTr3byy_YBGfQaoUA/edit#gid=1861303593 informs us of it being seed funding"
   ]
  },
  {
   "cell_type": "code",
   "execution_count": 125,
   "metadata": {},
   "outputs": [],
   "source": [
    "# Replacing Undisclosed with nan\n",
    "df_2018['Round/Series'] = df_2018['Round/Series'].replace(\"Undisclosed\", np.nan)"
   ]
  },
  {
   "cell_type": "code",
   "execution_count": 126,
   "metadata": {},
   "outputs": [],
   "source": [
    "# Replacing the link with seed\n",
    "df_2018['Round/Series'] = df_2018['Round/Series'].replace(\"https://docs.google.com/spreadsheets/d/1x9ziNeaz6auNChIHnMI8U6kS7knTr3byy_YBGfQaoUA/edit#gid=1861303593\", \"Seed\")"
   ]
  },
  {
   "cell_type": "code",
   "execution_count": 127,
   "metadata": {},
   "outputs": [
    {
     "data": {
      "text/plain": [
       "array(['Seed', 'Series A', 'Angel', 'Series B', 'Pre-Seed',\n",
       "       'Private Equity', 'Venture - Series Unknown', 'Grant',\n",
       "       'Debt Financing', 'Post-IPO Debt', 'Series H', 'Series C',\n",
       "       'Series E', 'Corporate Round', nan, 'Series D', 'Secondary Market',\n",
       "       'Post-IPO Equity', 'Non-equity Assistance', 'Funding Round'],\n",
       "      dtype=object)"
      ]
     },
     "execution_count": 127,
     "metadata": {},
     "output_type": "execute_result"
    }
   ],
   "source": [
    "# Verifying changes made in the Round/ Series column\n",
    "\n",
    "df_2018['Round/Series'].unique()"
   ]
  },
  {
   "cell_type": "markdown",
   "metadata": {},
   "source": [
    "#### ***Checking the Amount Column***"
   ]
  },
  {
   "cell_type": "code",
   "execution_count": 128,
   "metadata": {},
   "outputs": [
    {
     "data": {
      "text/plain": [
       "130      $540,000,000\n",
       "116    ₹2,500,000,000\n",
       "40                  —\n",
       "169           5000000\n",
       "489            550000\n",
       "11                  —\n",
       "136                 —\n",
       "346                 —\n",
       "467           3500000\n",
       "344                 —\n",
       "382                 —\n",
       "444           4000000\n",
       "138        $1,500,000\n",
       "118                 —\n",
       "357        $3,000,000\n",
       "157                 —\n",
       "173           1000000\n",
       "50        ₹20,000,000\n",
       "320                 —\n",
       "501                 —\n",
       "Name: Amount, dtype: object"
      ]
     },
     "execution_count": 128,
     "metadata": {},
     "output_type": "execute_result"
    }
   ],
   "source": [
    "# Sampling the Amount column\n",
    "\n",
    "df_2018.Amount.sample(20)"
   ]
  },
  {
   "cell_type": "markdown",
   "metadata": {},
   "source": [
    "***Observatoin***: Sampling through the Amount column, the following observations were made\n",
    "- Some funds received were in rupees (₹). they must be converted to dollar using the rate in 2018\n",
    "- The dollar signs ($) preceeding some of the figures need to be removed\n",
    "- — needs to be replaced with nan\n",
    "- Commas as thousand separators need to be removed"
   ]
  },
  {
   "cell_type": "markdown",
   "metadata": {},
   "source": [
    "#### ***Handling observation made***"
   ]
  },
  {
   "cell_type": "code",
   "execution_count": 129,
   "metadata": {},
   "outputs": [],
   "source": [
    "# Define conversion rate\n",
    "conversion_rate = 0.0146\n",
    "\n",
    "#Function to clean and/ convert amount column\n",
    "\n",
    "def clean_and_convert(Amount):\n",
    "    \n",
    "    if Amount == \"—\":\n",
    "        \n",
    "        return float('nan')\n",
    "    \n",
    "    elif '₹' in Amount:\n",
    "        \n",
    "        Amount = Amount.replace('₹', '').replace(',', '')\n",
    "        \n",
    "        return float(Amount) * conversion_rate\n",
    "    \n",
    "    else:\n",
    "        \n",
    "        Amount = Amount.replace('$', '').replace(',', '')\n",
    "        \n",
    "        return float(Amount)\n",
    "    "
   ]
  },
  {
   "cell_type": "code",
   "execution_count": 130,
   "metadata": {},
   "outputs": [],
   "source": [
    "# Applying the cleaning and conversion function to the amount column\n",
    "\n",
    "df_2018['Amount'] = df_2018['Amount'].apply(clean_and_convert)"
   ]
  },
  {
   "cell_type": "code",
   "execution_count": 131,
   "metadata": {},
   "outputs": [
    {
     "data": {
      "text/plain": [
       "167      500000.0\n",
       "488       40000.0\n",
       "523      511000.0\n",
       "346           NaN\n",
       "210      102200.0\n",
       "366      100000.0\n",
       "441           NaN\n",
       "471     3700000.0\n",
       "183     3600000.0\n",
       "307           NaN\n",
       "524    35000000.0\n",
       "274      300000.0\n",
       "499     1138800.0\n",
       "226           NaN\n",
       "169     5000000.0\n",
       "377     3300000.0\n",
       "256     1450000.0\n",
       "487     5840000.0\n",
       "387     4964000.0\n",
       "134      900000.0\n",
       "Name: Amount, dtype: float64"
      ]
     },
     "execution_count": 131,
     "metadata": {},
     "output_type": "execute_result"
    }
   ],
   "source": [
    "# Sampling to verify changes has been effected\n",
    "\n",
    "df_2018['Amount'].sample(20)"
   ]
  },
  {
   "cell_type": "markdown",
   "metadata": {},
   "source": [
    "#### ***Checking the Location Column***"
   ]
  },
  {
   "cell_type": "code",
   "execution_count": 132,
   "metadata": {},
   "outputs": [
    {
     "data": {
      "text/plain": [
       "494         Noida, Uttar Pradesh, India\n",
       "372             Gurgaon, Haryana, India\n",
       "260         Bengaluru, Karnataka, India\n",
       "321         Noida, Uttar Pradesh, India\n",
       "413         Bangalore, Karnataka, India\n",
       "51         Kanpur, Uttar Pradesh, India\n",
       "451        Kormangala, Karnataka, India\n",
       "44              New Delhi, Delhi, India\n",
       "493          Mumbai, Maharashtra, India\n",
       "411             Gurgaon, Haryana, India\n",
       "381         Bengaluru, Karnataka, India\n",
       "478       Lucknow, Uttar Pradesh, India\n",
       "83              Gurgaon, Haryana, India\n",
       "120            Pune, Maharashtra, India\n",
       "23                  Delhi, Delhi, India\n",
       "329         Bangalore, Karnataka, India\n",
       "207    Hyderabad, Andhra Pradesh, India\n",
       "498          Mumbai, Maharashtra, India\n",
       "33          Bengaluru, Karnataka, India\n",
       "148             Gurgaon, Haryana, India\n",
       "Name: Location, dtype: object"
      ]
     },
     "execution_count": 132,
     "metadata": {},
     "output_type": "execute_result"
    }
   ],
   "source": [
    "# Sampling the location column\n",
    "\n",
    "df_2018.Location.sample(20)"
   ]
  },
  {
   "cell_type": "markdown",
   "metadata": {},
   "source": [
    "***Observation***\n",
    "- It can be observed that the city, state and country are put together but separated by a comma. We would need to disintegrate them as this will help us analyze the role the city and state plays"
   ]
  },
  {
   "cell_type": "code",
   "execution_count": 133,
   "metadata": {},
   "outputs": [
    {
     "data": {
      "text/html": [
       "<div>\n",
       "<style scoped>\n",
       "    .dataframe tbody tr th:only-of-type {\n",
       "        vertical-align: middle;\n",
       "    }\n",
       "\n",
       "    .dataframe tbody tr th {\n",
       "        vertical-align: top;\n",
       "    }\n",
       "\n",
       "    .dataframe thead th {\n",
       "        text-align: right;\n",
       "    }\n",
       "</style>\n",
       "<table border=\"1\" class=\"dataframe\">\n",
       "  <thead>\n",
       "    <tr style=\"text-align: right;\">\n",
       "      <th></th>\n",
       "      <th>Company Name</th>\n",
       "      <th>Industry</th>\n",
       "      <th>Round/Series</th>\n",
       "      <th>Amount</th>\n",
       "      <th>Location</th>\n",
       "      <th>About Company</th>\n",
       "      <th>City</th>\n",
       "      <th>State</th>\n",
       "      <th>Country</th>\n",
       "    </tr>\n",
       "  </thead>\n",
       "  <tbody>\n",
       "    <tr>\n",
       "      <th>0</th>\n",
       "      <td>TheCollegeFever</td>\n",
       "      <td>Brand Marketing</td>\n",
       "      <td>Seed</td>\n",
       "      <td>250000.0</td>\n",
       "      <td>Bangalore, Karnataka, India</td>\n",
       "      <td>TheCollegeFever is a hub for fun, fiesta and f...</td>\n",
       "      <td>Bangalore</td>\n",
       "      <td>Karnataka</td>\n",
       "      <td>India</td>\n",
       "    </tr>\n",
       "    <tr>\n",
       "      <th>1</th>\n",
       "      <td>Happy Cow Dairy</td>\n",
       "      <td>Agriculture</td>\n",
       "      <td>Seed</td>\n",
       "      <td>584000.0</td>\n",
       "      <td>Mumbai, Maharashtra, India</td>\n",
       "      <td>A startup which aggregates milk from dairy far...</td>\n",
       "      <td>Mumbai</td>\n",
       "      <td>Maharashtra</td>\n",
       "      <td>India</td>\n",
       "    </tr>\n",
       "    <tr>\n",
       "      <th>2</th>\n",
       "      <td>MyLoanCare</td>\n",
       "      <td>Credit</td>\n",
       "      <td>Series A</td>\n",
       "      <td>949000.0</td>\n",
       "      <td>Gurgaon, Haryana, India</td>\n",
       "      <td>Leading Online Loans Marketplace in India</td>\n",
       "      <td>Gurgaon</td>\n",
       "      <td>Haryana</td>\n",
       "      <td>India</td>\n",
       "    </tr>\n",
       "    <tr>\n",
       "      <th>3</th>\n",
       "      <td>PayMe India</td>\n",
       "      <td>Financial Services</td>\n",
       "      <td>Angel</td>\n",
       "      <td>2000000.0</td>\n",
       "      <td>Noida, Uttar Pradesh, India</td>\n",
       "      <td>PayMe India is an innovative FinTech organizat...</td>\n",
       "      <td>Noida</td>\n",
       "      <td>Uttar Pradesh</td>\n",
       "      <td>India</td>\n",
       "    </tr>\n",
       "    <tr>\n",
       "      <th>4</th>\n",
       "      <td>Eunimart</td>\n",
       "      <td>E-Commerce Platforms</td>\n",
       "      <td>Seed</td>\n",
       "      <td>NaN</td>\n",
       "      <td>Hyderabad, Andhra Pradesh, India</td>\n",
       "      <td>Eunimart is a one stop solution for merchants ...</td>\n",
       "      <td>Hyderabad</td>\n",
       "      <td>Andhra Pradesh</td>\n",
       "      <td>India</td>\n",
       "    </tr>\n",
       "    <tr>\n",
       "      <th>...</th>\n",
       "      <td>...</td>\n",
       "      <td>...</td>\n",
       "      <td>...</td>\n",
       "      <td>...</td>\n",
       "      <td>...</td>\n",
       "      <td>...</td>\n",
       "      <td>...</td>\n",
       "      <td>...</td>\n",
       "      <td>...</td>\n",
       "    </tr>\n",
       "    <tr>\n",
       "      <th>520</th>\n",
       "      <td>Udaan</td>\n",
       "      <td>B2B</td>\n",
       "      <td>Series C</td>\n",
       "      <td>225000000.0</td>\n",
       "      <td>Bangalore, Karnataka, India</td>\n",
       "      <td>Udaan is a B2B trade platform, designed specif...</td>\n",
       "      <td>Bangalore</td>\n",
       "      <td>Karnataka</td>\n",
       "      <td>India</td>\n",
       "    </tr>\n",
       "    <tr>\n",
       "      <th>521</th>\n",
       "      <td>Happyeasygo Group</td>\n",
       "      <td>Tourism</td>\n",
       "      <td>Series A</td>\n",
       "      <td>NaN</td>\n",
       "      <td>Haryana, Haryana, India</td>\n",
       "      <td>HappyEasyGo is an online travel domain.</td>\n",
       "      <td>Haryana</td>\n",
       "      <td>Haryana</td>\n",
       "      <td>India</td>\n",
       "    </tr>\n",
       "    <tr>\n",
       "      <th>522</th>\n",
       "      <td>Mombay</td>\n",
       "      <td>Food and Beverage</td>\n",
       "      <td>Seed</td>\n",
       "      <td>7500.0</td>\n",
       "      <td>Mumbai, Maharashtra, India</td>\n",
       "      <td>Mombay is a unique opportunity for housewives ...</td>\n",
       "      <td>Mumbai</td>\n",
       "      <td>Maharashtra</td>\n",
       "      <td>India</td>\n",
       "    </tr>\n",
       "    <tr>\n",
       "      <th>523</th>\n",
       "      <td>Droni Tech</td>\n",
       "      <td>Information Technology</td>\n",
       "      <td>Seed</td>\n",
       "      <td>511000.0</td>\n",
       "      <td>Mumbai, Maharashtra, India</td>\n",
       "      <td>Droni Tech manufacture UAVs and develop softwa...</td>\n",
       "      <td>Mumbai</td>\n",
       "      <td>Maharashtra</td>\n",
       "      <td>India</td>\n",
       "    </tr>\n",
       "    <tr>\n",
       "      <th>524</th>\n",
       "      <td>Netmeds</td>\n",
       "      <td>Biotechnology</td>\n",
       "      <td>Series C</td>\n",
       "      <td>35000000.0</td>\n",
       "      <td>Chennai, Tamil Nadu, India</td>\n",
       "      <td>Welcome to India's most convenient pharmacy!</td>\n",
       "      <td>Chennai</td>\n",
       "      <td>Tamil Nadu</td>\n",
       "      <td>India</td>\n",
       "    </tr>\n",
       "  </tbody>\n",
       "</table>\n",
       "<p>525 rows × 9 columns</p>\n",
       "</div>"
      ],
      "text/plain": [
       "          Company Name                Industry Round/Series       Amount  \\\n",
       "0      TheCollegeFever         Brand Marketing         Seed     250000.0   \n",
       "1      Happy Cow Dairy             Agriculture         Seed     584000.0   \n",
       "2           MyLoanCare                  Credit     Series A     949000.0   \n",
       "3          PayMe India      Financial Services        Angel    2000000.0   \n",
       "4             Eunimart    E-Commerce Platforms         Seed          NaN   \n",
       "..                 ...                     ...          ...          ...   \n",
       "520              Udaan                     B2B     Series C  225000000.0   \n",
       "521  Happyeasygo Group                 Tourism     Series A          NaN   \n",
       "522             Mombay       Food and Beverage         Seed       7500.0   \n",
       "523         Droni Tech  Information Technology         Seed     511000.0   \n",
       "524            Netmeds           Biotechnology     Series C   35000000.0   \n",
       "\n",
       "                             Location  \\\n",
       "0         Bangalore, Karnataka, India   \n",
       "1          Mumbai, Maharashtra, India   \n",
       "2             Gurgaon, Haryana, India   \n",
       "3         Noida, Uttar Pradesh, India   \n",
       "4    Hyderabad, Andhra Pradesh, India   \n",
       "..                                ...   \n",
       "520       Bangalore, Karnataka, India   \n",
       "521           Haryana, Haryana, India   \n",
       "522        Mumbai, Maharashtra, India   \n",
       "523        Mumbai, Maharashtra, India   \n",
       "524        Chennai, Tamil Nadu, India   \n",
       "\n",
       "                                         About Company       City  \\\n",
       "0    TheCollegeFever is a hub for fun, fiesta and f...  Bangalore   \n",
       "1    A startup which aggregates milk from dairy far...     Mumbai   \n",
       "2            Leading Online Loans Marketplace in India    Gurgaon   \n",
       "3    PayMe India is an innovative FinTech organizat...      Noida   \n",
       "4    Eunimart is a one stop solution for merchants ...  Hyderabad   \n",
       "..                                                 ...        ...   \n",
       "520  Udaan is a B2B trade platform, designed specif...  Bangalore   \n",
       "521            HappyEasyGo is an online travel domain.    Haryana   \n",
       "522  Mombay is a unique opportunity for housewives ...     Mumbai   \n",
       "523  Droni Tech manufacture UAVs and develop softwa...     Mumbai   \n",
       "524       Welcome to India's most convenient pharmacy!    Chennai   \n",
       "\n",
       "              State Country  \n",
       "0         Karnataka   India  \n",
       "1       Maharashtra   India  \n",
       "2           Haryana   India  \n",
       "3     Uttar Pradesh   India  \n",
       "4    Andhra Pradesh   India  \n",
       "..              ...     ...  \n",
       "520       Karnataka   India  \n",
       "521         Haryana   India  \n",
       "522     Maharashtra   India  \n",
       "523     Maharashtra   India  \n",
       "524      Tamil Nadu   India  \n",
       "\n",
       "[525 rows x 9 columns]"
      ]
     },
     "execution_count": 133,
     "metadata": {},
     "output_type": "execute_result"
    }
   ],
   "source": [
    "# Splitting Location into City, State and Country\n",
    "df_2018[['City', 'State', 'Country']] = df_2018['Location'].str.split(', ', expand=True)[[0, 1, 2]]\n",
    "\n",
    "# Displaying the DataFrame\n",
    "df_2018.head()"
   ]
  },
  {
   "cell_type": "markdown",
   "metadata": {},
   "source": [
    "#### ***Checking the About Company Column***"
   ]
  },
  {
   "cell_type": "code",
   "execution_count": 134,
   "metadata": {},
   "outputs": [
    {
     "data": {
      "text/plain": [
       "49     Reserve your Room, Hostel or Paying Guest, whi...\n",
       "423    A one of its kind digital integrated platform ...\n",
       "316    Nua is an e-commerce and feminine care brand p...\n",
       "488    GoGaga is a new age dating app that has remove...\n",
       "493    CLP India Pvt. Ltd. is a foreign investor in t...\n",
       "455                               Online gaming startup.\n",
       "42     UClean is a tech enabled laundry service provi...\n",
       "189    Rupeek is an asset backed online lending platf...\n",
       "378    Signzy are creating 'building blocks for a Dig...\n",
       "310    A Bengaluru-based fraud analytics solution pro...\n",
       "Name: About Company, dtype: object"
      ]
     },
     "execution_count": 134,
     "metadata": {},
     "output_type": "execute_result"
    }
   ],
   "source": [
    "# Sampling the About Company column\n",
    "\n",
    "df_2018['About Company'].sample(10)"
   ]
  },
  {
   "cell_type": "markdown",
   "metadata": {},
   "source": [
    "***Observation***\n",
    "- There's not much that can be done here. Will leave it as it is"
   ]
  },
  {
   "cell_type": "code",
   "execution_count": 135,
   "metadata": {},
   "outputs": [
    {
     "name": "stdout",
     "output_type": "stream",
     "text": [
      "<class 'pandas.core.frame.DataFrame'>\n",
      "RangeIndex: 525 entries, 0 to 524\n",
      "Data columns (total 9 columns):\n",
      " #   Column         Non-Null Count  Dtype  \n",
      "---  ------         --------------  -----  \n",
      " 0   Company Name   525 non-null    object \n",
      " 1   Industry       495 non-null    object \n",
      " 2   Round/Series   523 non-null    object \n",
      " 3   Amount         377 non-null    float64\n",
      " 4   Location       525 non-null    object \n",
      " 5   About Company  525 non-null    object \n",
      " 6   City           525 non-null    object \n",
      " 7   State          525 non-null    object \n",
      " 8   Country        521 non-null    object \n",
      "dtypes: float64(1), object(8)\n",
      "memory usage: 37.0+ KB\n"
     ]
    }
   ],
   "source": [
    "#Let's check the Data types to be certain everything is as expected\n",
    "\n",
    "df_2018.info()"
   ]
  },
  {
   "cell_type": "markdown",
   "metadata": {},
   "source": [
    "### ***2019 start-ups funds data exploration and cleaning***"
   ]
  },
  {
   "cell_type": "code",
   "execution_count": 136,
   "metadata": {},
   "outputs": [
    {
     "data": {
      "text/html": [
       "<div>\n",
       "<style scoped>\n",
       "    .dataframe tbody tr th:only-of-type {\n",
       "        vertical-align: middle;\n",
       "    }\n",
       "\n",
       "    .dataframe tbody tr th {\n",
       "        vertical-align: top;\n",
       "    }\n",
       "\n",
       "    .dataframe thead th {\n",
       "        text-align: right;\n",
       "    }\n",
       "</style>\n",
       "<table border=\"1\" class=\"dataframe\">\n",
       "  <thead>\n",
       "    <tr style=\"text-align: right;\">\n",
       "      <th></th>\n",
       "      <th>Company/Brand</th>\n",
       "      <th>Founded</th>\n",
       "      <th>HeadQuarter</th>\n",
       "      <th>Sector</th>\n",
       "      <th>What it does</th>\n",
       "      <th>Founders</th>\n",
       "      <th>Investor</th>\n",
       "      <th>Amount($)</th>\n",
       "      <th>Stage</th>\n",
       "    </tr>\n",
       "  </thead>\n",
       "  <tbody>\n",
       "    <tr>\n",
       "      <th>0</th>\n",
       "      <td>Bombay Shaving</td>\n",
       "      <td>NaN</td>\n",
       "      <td>NaN</td>\n",
       "      <td>Ecommerce</td>\n",
       "      <td>Provides a range of male grooming products</td>\n",
       "      <td>Shantanu Deshpande</td>\n",
       "      <td>Sixth Sense Ventures</td>\n",
       "      <td>$6,300,000</td>\n",
       "      <td>NaN</td>\n",
       "    </tr>\n",
       "    <tr>\n",
       "      <th>1</th>\n",
       "      <td>Ruangguru</td>\n",
       "      <td>2014.0</td>\n",
       "      <td>Mumbai</td>\n",
       "      <td>Edtech</td>\n",
       "      <td>A learning platform that provides topic-based ...</td>\n",
       "      <td>Adamas Belva Syah Devara, Iman Usman.</td>\n",
       "      <td>General Atlantic</td>\n",
       "      <td>$150,000,000</td>\n",
       "      <td>Series C</td>\n",
       "    </tr>\n",
       "    <tr>\n",
       "      <th>2</th>\n",
       "      <td>Eduisfun</td>\n",
       "      <td>NaN</td>\n",
       "      <td>Mumbai</td>\n",
       "      <td>Edtech</td>\n",
       "      <td>It aims to make learning fun via games.</td>\n",
       "      <td>Jatin Solanki</td>\n",
       "      <td>Deepak Parekh, Amitabh Bachchan, Piyush Pandey</td>\n",
       "      <td>$28,000,000</td>\n",
       "      <td>Fresh funding</td>\n",
       "    </tr>\n",
       "    <tr>\n",
       "      <th>3</th>\n",
       "      <td>HomeLane</td>\n",
       "      <td>2014.0</td>\n",
       "      <td>Chennai</td>\n",
       "      <td>Interior design</td>\n",
       "      <td>Provides interior designing solutions</td>\n",
       "      <td>Srikanth Iyer, Rama Harinath</td>\n",
       "      <td>Evolvence India Fund (EIF), Pidilite Group, FJ...</td>\n",
       "      <td>$30,000,000</td>\n",
       "      <td>Series D</td>\n",
       "    </tr>\n",
       "    <tr>\n",
       "      <th>4</th>\n",
       "      <td>Nu Genes</td>\n",
       "      <td>2004.0</td>\n",
       "      <td>Telangana</td>\n",
       "      <td>AgriTech</td>\n",
       "      <td>It is a seed company engaged in production, pr...</td>\n",
       "      <td>Narayana Reddy Punyala</td>\n",
       "      <td>Innovation in Food and Agriculture (IFA)</td>\n",
       "      <td>$6,000,000</td>\n",
       "      <td>NaN</td>\n",
       "    </tr>\n",
       "  </tbody>\n",
       "</table>\n",
       "</div>"
      ],
      "text/plain": [
       "    Company/Brand  Founded HeadQuarter           Sector  \\\n",
       "0  Bombay Shaving      NaN         NaN        Ecommerce   \n",
       "1       Ruangguru   2014.0      Mumbai           Edtech   \n",
       "2        Eduisfun      NaN      Mumbai           Edtech   \n",
       "3        HomeLane   2014.0     Chennai  Interior design   \n",
       "4        Nu Genes   2004.0   Telangana         AgriTech   \n",
       "\n",
       "                                        What it does  \\\n",
       "0         Provides a range of male grooming products   \n",
       "1  A learning platform that provides topic-based ...   \n",
       "2            It aims to make learning fun via games.   \n",
       "3              Provides interior designing solutions   \n",
       "4  It is a seed company engaged in production, pr...   \n",
       "\n",
       "                                Founders  \\\n",
       "0                     Shantanu Deshpande   \n",
       "1  Adamas Belva Syah Devara, Iman Usman.   \n",
       "2                          Jatin Solanki   \n",
       "3           Srikanth Iyer, Rama Harinath   \n",
       "4                 Narayana Reddy Punyala   \n",
       "\n",
       "                                            Investor     Amount($)  \\\n",
       "0                               Sixth Sense Ventures    $6,300,000   \n",
       "1                                   General Atlantic  $150,000,000   \n",
       "2     Deepak Parekh, Amitabh Bachchan, Piyush Pandey   $28,000,000   \n",
       "3  Evolvence India Fund (EIF), Pidilite Group, FJ...   $30,000,000   \n",
       "4           Innovation in Food and Agriculture (IFA)    $6,000,000   \n",
       "\n",
       "           Stage  \n",
       "0            NaN  \n",
       "1       Series C  \n",
       "2  Fresh funding  \n",
       "3       Series D  \n",
       "4            NaN  "
      ]
     },
     "execution_count": 136,
     "metadata": {},
     "output_type": "execute_result"
    }
   ],
   "source": [
    "# a view of the first 5 rows in the dataset\n",
    "\n",
    "df_2019.head()"
   ]
  },
  {
   "cell_type": "markdown",
   "metadata": {},
   "source": [
    "#### ***Checking the Company/Brand Column***"
   ]
  },
  {
   "cell_type": "code",
   "execution_count": 137,
   "metadata": {},
   "outputs": [
    {
     "name": "stderr",
     "output_type": "stream",
     "text": [
      "C:\\Users\\Domino\\AppData\\Local\\Temp\\ipykernel_23116\\2917656138.py:5: UserWarning: Boolean Series key will be reindexed to match DataFrame index.\n",
      "  df_2019[df_2019['Company/Brand'].duplicated(keep= False).sort_values()]\n"
     ]
    },
    {
     "data": {
      "text/html": [
       "<div>\n",
       "<style scoped>\n",
       "    .dataframe tbody tr th:only-of-type {\n",
       "        vertical-align: middle;\n",
       "    }\n",
       "\n",
       "    .dataframe tbody tr th {\n",
       "        vertical-align: top;\n",
       "    }\n",
       "\n",
       "    .dataframe thead th {\n",
       "        text-align: right;\n",
       "    }\n",
       "</style>\n",
       "<table border=\"1\" class=\"dataframe\">\n",
       "  <thead>\n",
       "    <tr style=\"text-align: right;\">\n",
       "      <th></th>\n",
       "      <th>Company/Brand</th>\n",
       "      <th>Founded</th>\n",
       "      <th>HeadQuarter</th>\n",
       "      <th>Sector</th>\n",
       "      <th>What it does</th>\n",
       "      <th>Founders</th>\n",
       "      <th>Investor</th>\n",
       "      <th>Amount($)</th>\n",
       "      <th>Stage</th>\n",
       "    </tr>\n",
       "  </thead>\n",
       "  <tbody>\n",
       "    <tr>\n",
       "      <th>7</th>\n",
       "      <td>Kratikal</td>\n",
       "      <td>2013.0</td>\n",
       "      <td>Noida</td>\n",
       "      <td>Technology</td>\n",
       "      <td>It is a product-based cybersecurity solutions ...</td>\n",
       "      <td>Pavan Kushwaha, Paratosh Bansal, Dip Jung Thapa</td>\n",
       "      <td>Gilda VC, Art Venture, Rajeev Chitrabhanu.</td>\n",
       "      <td>$1,000,000</td>\n",
       "      <td>Pre series A</td>\n",
       "    </tr>\n",
       "    <tr>\n",
       "      <th>30</th>\n",
       "      <td>Licious</td>\n",
       "      <td>NaN</td>\n",
       "      <td>Bangalore</td>\n",
       "      <td>Food</td>\n",
       "      <td>Online meat shop</td>\n",
       "      <td>Vivek Gupta, Abhay Hanjura</td>\n",
       "      <td>Vertex Growth Fund</td>\n",
       "      <td>$30,000,000</td>\n",
       "      <td>Series E</td>\n",
       "    </tr>\n",
       "    <tr>\n",
       "      <th>68</th>\n",
       "      <td>Licious</td>\n",
       "      <td>2015.0</td>\n",
       "      <td>Bangalore</td>\n",
       "      <td>Food</td>\n",
       "      <td>Online meat shop</td>\n",
       "      <td>Vivek Gupta, Abhay Hanjura</td>\n",
       "      <td>Vertex Ventures</td>\n",
       "      <td>$25,000,000</td>\n",
       "      <td>Series D</td>\n",
       "    </tr>\n",
       "    <tr>\n",
       "      <th>82</th>\n",
       "      <td>Kratikal</td>\n",
       "      <td>NaN</td>\n",
       "      <td>Uttar pradesh</td>\n",
       "      <td>Technology</td>\n",
       "      <td>Provides cyber security solutions</td>\n",
       "      <td>Pavan Kushwaha</td>\n",
       "      <td>Gilda VC, Art Venture, Rajeev Chitrabhanu</td>\n",
       "      <td>$1,000,000</td>\n",
       "      <td>Pre-series A</td>\n",
       "    </tr>\n",
       "  </tbody>\n",
       "</table>\n",
       "</div>"
      ],
      "text/plain": [
       "   Company/Brand  Founded    HeadQuarter      Sector  \\\n",
       "7       Kratikal   2013.0          Noida  Technology   \n",
       "30       Licious      NaN      Bangalore        Food   \n",
       "68       Licious   2015.0      Bangalore        Food   \n",
       "82      Kratikal      NaN  Uttar pradesh  Technology   \n",
       "\n",
       "                                         What it does  \\\n",
       "7   It is a product-based cybersecurity solutions ...   \n",
       "30                                   Online meat shop   \n",
       "68                                   Online meat shop   \n",
       "82                  Provides cyber security solutions   \n",
       "\n",
       "                                           Founders  \\\n",
       "7   Pavan Kushwaha, Paratosh Bansal, Dip Jung Thapa   \n",
       "30                       Vivek Gupta, Abhay Hanjura   \n",
       "68                       Vivek Gupta, Abhay Hanjura   \n",
       "82                                   Pavan Kushwaha   \n",
       "\n",
       "                                      Investor    Amount($)         Stage  \n",
       "7   Gilda VC, Art Venture, Rajeev Chitrabhanu.   $1,000,000  Pre series A  \n",
       "30                          Vertex Growth Fund  $30,000,000      Series E  \n",
       "68                             Vertex Ventures  $25,000,000      Series D  \n",
       "82   Gilda VC, Art Venture, Rajeev Chitrabhanu   $1,000,000  Pre-series A  "
      ]
     },
     "execution_count": 137,
     "metadata": {},
     "output_type": "execute_result"
    }
   ],
   "source": [
    "# checking for duplicated entries based on the company/Brand Column\n",
    "\n",
    "# spooling the details of duplicated value in the company name column\n",
    "\n",
    "df_2019[df_2019['Company/Brand'].duplicated(keep= False).sort_values()]"
   ]
  },
  {
   "cell_type": "markdown",
   "metadata": {},
   "source": [
    "***Observation***\n",
    "- We have two entries duplicated i.e. Kratikal and Licious\n",
    "- In Kratical case it can be observed that row 7 has entries captured unlike row 82. It is worth noting that Noida is in the Uttar Pradesh state. Due to this we will be dropping row 82.\n",
    "- In Licious case, it is more likely that row 68 is correct entry since it has all entries captured. We will drop line 30."
   ]
  },
  {
   "cell_type": "code",
   "execution_count": 138,
   "metadata": {},
   "outputs": [],
   "source": [
    "# Dropping duplicated rows based on the column company/Brand\n",
    "\n",
    "df_2019.drop([30, 82], axis= 0, inplace= True)\n"
   ]
  },
  {
   "cell_type": "code",
   "execution_count": 139,
   "metadata": {},
   "outputs": [
    {
     "data": {
      "text/plain": [
       "Company/Brand\n",
       "False    87\n",
       "Name: count, dtype: int64"
      ]
     },
     "execution_count": 139,
     "metadata": {},
     "output_type": "execute_result"
    }
   ],
   "source": [
    "# verifying if changes has been effected\n",
    "\n",
    "df_2019['Company/Brand'].duplicated().value_counts()"
   ]
  },
  {
   "cell_type": "markdown",
   "metadata": {},
   "source": [
    "#### ***Checking the Founded Column***"
   ]
  },
  {
   "cell_type": "code",
   "execution_count": 140,
   "metadata": {},
   "outputs": [
    {
     "data": {
      "text/plain": [
       "15    2017.0\n",
       "4     2004.0\n",
       "33    2011.0\n",
       "81    2013.0\n",
       "76    2018.0\n",
       "64       NaN\n",
       "5        NaN\n",
       "48    2011.0\n",
       "10    2010.0\n",
       "13    2019.0\n",
       "Name: Founded, dtype: float64"
      ]
     },
     "execution_count": 140,
     "metadata": {},
     "output_type": "execute_result"
    }
   ],
   "source": [
    "# We checking to confirm if\n",
    "\n",
    "df_2019.Founded.sample(10)"
   ]
  },
  {
   "cell_type": "markdown",
   "metadata": {},
   "source": [
    "***Observation***\n",
    "\n",
    "No issues with entries"
   ]
  },
  {
   "cell_type": "markdown",
   "metadata": {},
   "source": [
    "#### ***Checking the HeadQuarter Column***"
   ]
  },
  {
   "cell_type": "code",
   "execution_count": 141,
   "metadata": {},
   "outputs": [
    {
     "data": {
      "text/plain": [
       "49    Bangalore\n",
       "9         Delhi\n",
       "25        Delhi\n",
       "79          NaN\n",
       "87        Delhi\n",
       "11    Bangalore\n",
       "21          NaN\n",
       "71        Surat\n",
       "46        Noida\n",
       "57       Mumbai\n",
       "Name: HeadQuarter, dtype: object"
      ]
     },
     "execution_count": 141,
     "metadata": {},
     "output_type": "execute_result"
    }
   ],
   "source": [
    "# Sampling the column\n",
    "\n",
    "df_2019.HeadQuarter.sample(10)"
   ]
  },
  {
   "cell_type": "markdown",
   "metadata": {},
   "source": [
    "***Observation***\n",
    "\n",
    "No issues with entries"
   ]
  },
  {
   "cell_type": "markdown",
   "metadata": {},
   "source": [
    "#### ***Checking the Sector Column***"
   ]
  },
  {
   "cell_type": "code",
   "execution_count": 142,
   "metadata": {},
   "outputs": [
    {
     "data": {
      "text/plain": [
       "81    Transport & Rentals\n",
       "34              Logistics\n",
       "87             Automobile\n",
       "6                    SaaS\n",
       "76             Healthtech\n",
       "78        Virtual Banking\n",
       "38          E-marketplace\n",
       "32          E-marketplace\n",
       "12                Fintech\n",
       "47               AgriTech\n",
       "Name: Sector, dtype: object"
      ]
     },
     "execution_count": 142,
     "metadata": {},
     "output_type": "execute_result"
    }
   ],
   "source": [
    "df_2019.Sector.sample(10)"
   ]
  },
  {
   "cell_type": "markdown",
   "metadata": {},
   "source": [
    "***Observation***\n",
    "\n",
    "No issues with entries"
   ]
  },
  {
   "cell_type": "markdown",
   "metadata": {},
   "source": [
    "#### ***Checking the What it does Column***"
   ]
  },
  {
   "cell_type": "code",
   "execution_count": 143,
   "metadata": {},
   "outputs": [
    {
     "data": {
      "text/plain": [
       "48                         Enables to order food online\n",
       "76    It creates an engagement loop between doctors,...\n",
       "8     It is an AI and big data services company prov...\n",
       "33    Develops drones that are used by the military,...\n",
       "3                 Provides interior designing solutions\n",
       "38        Online fruits and vegetables delivery company\n",
       "2               It aims to make learning fun via games.\n",
       "70    Platform uses encryption technology to allow b...\n",
       "27    Developer of an artificial intelligence-powere...\n",
       "86    Find automobile repair and maintenance service...\n",
       "Name: What it does, dtype: object"
      ]
     },
     "execution_count": 143,
     "metadata": {},
     "output_type": "execute_result"
    }
   ],
   "source": [
    "df_2019['What it does'].sample(10)"
   ]
  },
  {
   "cell_type": "markdown",
   "metadata": {},
   "source": [
    "***Observation***\n",
    "\n",
    "No issues with entries"
   ]
  },
  {
   "cell_type": "markdown",
   "metadata": {},
   "source": [
    "#### ***Checking the Founders Column***"
   ]
  },
  {
   "cell_type": "code",
   "execution_count": 144,
   "metadata": {},
   "outputs": [
    {
     "data": {
      "text/plain": [
       "48                               Amit Raj, Anshul Gupta\n",
       "17           Chapman, Priya Sharma, Ashish Anantharaman\n",
       "69                      Anurag Garg, Sridhar Srinivasan\n",
       "87    Niraj Singh, Ramanshu Mahaur, Ganesh Pawar, Mo...\n",
       "10                              Abhay Bhat, Kinnar Shah\n",
       "2                                         Jatin Solanki\n",
       "33                             Neel Mehta, Nihar Vartak\n",
       "7       Pavan Kushwaha, Paratosh Bansal, Dip Jung Thapa\n",
       "47        Devendra Gupta, Prateek Singhal, Vivek Pandey\n",
       "25                         Arihant Jain, Ajeet Kushwaha\n",
       "Name: Founders, dtype: object"
      ]
     },
     "execution_count": 144,
     "metadata": {},
     "output_type": "execute_result"
    }
   ],
   "source": [
    "df_2019.Founders.sample(10)"
   ]
  },
  {
   "cell_type": "markdown",
   "metadata": {},
   "source": [
    "***Observation***\n",
    "\n",
    "No issues with entries"
   ]
  },
  {
   "cell_type": "markdown",
   "metadata": {},
   "source": [
    "#### ***Checking the Investor Column***"
   ]
  },
  {
   "cell_type": "code",
   "execution_count": 145,
   "metadata": {},
   "outputs": [
    {
     "data": {
      "text/plain": [
       "46    Manipal Education and Medical Group (MEMG) fam...\n",
       "17                                       Goldman Sachs.\n",
       "27                                      Canaan Partners\n",
       "23                            Inflection Point Ventures\n",
       "71                                        HNI investors\n",
       "15           German development finance institution DEG\n",
       "24                     Wilson Global Opportunities Fund\n",
       "62                                     GAIL (India) Ltd\n",
       "75    Inflection Point Ventures, SucSEED Venture Par...\n",
       "9                                              SoftBank\n",
       "Name: Investor, dtype: object"
      ]
     },
     "execution_count": 145,
     "metadata": {},
     "output_type": "execute_result"
    }
   ],
   "source": [
    "df_2019.Investor.sample(10)"
   ]
  },
  {
   "cell_type": "markdown",
   "metadata": {},
   "source": [
    "***Observation***\n",
    "\n",
    "No issues with entries"
   ]
  },
  {
   "cell_type": "markdown",
   "metadata": {},
   "source": [
    "#### ***Checking the Amount Column***"
   ]
  },
  {
   "cell_type": "code",
   "execution_count": 146,
   "metadata": {},
   "outputs": [
    {
     "data": {
      "text/plain": [
       "29      $2,500,000\n",
       "10     Undisclosed\n",
       "4       $6,000,000\n",
       "67      $5,500,000\n",
       "1     $150,000,000\n",
       "58      $6,800,000\n",
       "34     $20,000,000\n",
       "52      $1,500,000\n",
       "80    $311,000,000\n",
       "11     $22,000,000\n",
       "Name: Amount($), dtype: object"
      ]
     },
     "execution_count": 146,
     "metadata": {},
     "output_type": "execute_result"
    }
   ],
   "source": [
    "df_2019['Amount($)'].sample(10)"
   ]
  },
  {
   "cell_type": "markdown",
   "metadata": {},
   "source": [
    "***Observation***\n",
    "\n",
    "Sampling through the Amount column, the following observations were made:\n",
    "- The dollar signs ($) preceeding some of the figures need to be removed\n",
    "- Undisclosed needs to be replaced with nan\n",
    "- Commas as thousand separators need to be removed"
   ]
  },
  {
   "cell_type": "code",
   "execution_count": 147,
   "metadata": {},
   "outputs": [],
   "source": [
    "#Function to clean amount column\n",
    "\n",
    "def clean_and_convert(Amount):\n",
    "    \n",
    "    if Amount == \"Undisclosed\":\n",
    "        \n",
    "        return float('nan')\n",
    "    \n",
    "    else:\n",
    "        \n",
    "        Amount = Amount.replace('$', '').replace(',', '')\n",
    "        \n",
    "        return float(Amount)\n",
    "    "
   ]
  },
  {
   "cell_type": "code",
   "execution_count": 148,
   "metadata": {},
   "outputs": [],
   "source": [
    "# Applying the cleaning and conversion function to the amount column\n",
    "\n",
    "df_2019['Amount($)'] = df_2019['Amount($)'].apply(clean_and_convert)"
   ]
  },
  {
   "cell_type": "code",
   "execution_count": 149,
   "metadata": {},
   "outputs": [
    {
     "data": {
      "text/plain": [
       "8      20000000.0\n",
       "46     50000000.0\n",
       "15      5000000.0\n",
       "42      8000000.0\n",
       "2      28000000.0\n",
       "85    693000000.0\n",
       "18       182700.0\n",
       "83      1000000.0\n",
       "53      1000000.0\n",
       "81      4800000.0\n",
       "Name: Amount($), dtype: float64"
      ]
     },
     "execution_count": 149,
     "metadata": {},
     "output_type": "execute_result"
    }
   ],
   "source": [
    "# Sampling to verify changes has been effected\n",
    "\n",
    "df_2019['Amount($)'].sample(10)"
   ]
  },
  {
   "cell_type": "markdown",
   "metadata": {},
   "source": [
    "#### ***Checking the Stage Column***"
   ]
  },
  {
   "cell_type": "code",
   "execution_count": 150,
   "metadata": {},
   "outputs": [
    {
     "data": {
      "text/plain": [
       "array([nan, 'Series C', 'Fresh funding', 'Series D', 'Pre series A',\n",
       "       'Series A', 'Series G', 'Series B', 'Post series A',\n",
       "       'Seed funding', 'Seed fund', 'Series F', 'Series B+', 'Seed round'],\n",
       "      dtype=object)"
      ]
     },
     "execution_count": 150,
     "metadata": {},
     "output_type": "execute_result"
    }
   ],
   "source": [
    "# Sampling the Column\n",
    "\n",
    "df_2019.Stage.unique()"
   ]
  },
  {
   "cell_type": "markdown",
   "metadata": {},
   "source": [
    "***Observation***:\n",
    "\n",
    "Some rows were represented with various variation of \"Seed\" funding stage. So, We will change the following to \"Seed\":\n",
    "- Seed funding\n",
    "- Seed fund\n",
    "- Fresh funding\n",
    "- Seed round"
   ]
  },
  {
   "cell_type": "code",
   "execution_count": 151,
   "metadata": {},
   "outputs": [],
   "source": [
    "#Function to clean Stage column\n",
    "\n",
    "def clean(Stage):\n",
    "    if Stage in [\"Seed funding\", \"Seed fund\", \"Fresh funding\", \"Seed round\"]:\n",
    "        return (\"Seed\")\n",
    "    else:\n",
    "        # Handle other cases or raise an exception\n",
    "        return Stage\n",
    "    "
   ]
  },
  {
   "cell_type": "code",
   "execution_count": 152,
   "metadata": {},
   "outputs": [],
   "source": [
    "# Applying the cleaning function to the Stage column\n",
    "\n",
    "df_2019['Stage'] = df_2019['Stage'].apply(clean)"
   ]
  },
  {
   "cell_type": "code",
   "execution_count": 161,
   "metadata": {},
   "outputs": [
    {
     "data": {
      "text/plain": [
       "27         NaN\n",
       "1     Series C\n",
       "39         NaN\n",
       "78    Series A\n",
       "28    Series C\n",
       "18         NaN\n",
       "50    Series C\n",
       "75    Series B\n",
       "36    Series B\n",
       "32         NaN\n",
       "Name: Stage, dtype: object"
      ]
     },
     "execution_count": 161,
     "metadata": {},
     "output_type": "execute_result"
    }
   ],
   "source": [
    "# Sampling to verify changes has been effected\n",
    "\n",
    "df_2019['Stage'].sample(10)"
   ]
  }
 ],
 "metadata": {
  "kernelspec": {
   "display_name": "Python 3",
   "language": "python",
   "name": "python3"
  },
  "language_info": {
   "codemirror_mode": {
    "name": "ipython",
    "version": 3
   },
   "file_extension": ".py",
   "mimetype": "text/x-python",
   "name": "python",
   "nbconvert_exporter": "python",
   "pygments_lexer": "ipython3",
   "version": "3.12.3"
  }
 },
 "nbformat": 4,
 "nbformat_minor": 2
}
