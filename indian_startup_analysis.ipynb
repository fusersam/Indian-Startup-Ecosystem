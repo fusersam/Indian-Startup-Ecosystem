{
 "cells": [
  {
   "cell_type": "markdown",
   "metadata": {},
   "source": [
    "# *****Indian Startup Ecosystem Analysis*****"
   ]
  },
  {
   "cell_type": "markdown",
   "metadata": {},
   "source": [
    "## ***Business Understanding***\n",
    "\n",
    "The period from 2018 to 2021 witnessed significant evolution in India's Startups. This project seeks to gain insights on patterns and trends in the data on funding, investment details and startup information. By leveraging on data analytics techniques and methods, we will touch on the effect that funding levels, business location and industry specialization has on the performance of startups. Understanding the dynamics of this ecosystem is crucial for businesses and investors seeking to capitalize on the opportunities within India's vibrant startup ecosystem"
   ]
  },
  {
   "cell_type": "markdown",
   "metadata": {},
   "source": [
    "Installing relevant libraries"
   ]
  },
  {
   "cell_type": "code",
   "execution_count": 1,
   "metadata": {},
   "outputs": [],
   "source": [
    "#%pip install pandas"
   ]
  },
  {
   "cell_type": "markdown",
   "metadata": {},
   "source": [
    "Importing relevant libraries"
   ]
  },
  {
   "cell_type": "code",
   "execution_count": 2,
   "metadata": {},
   "outputs": [],
   "source": [
    "import pandas as pd\n",
    "import numpy as np"
   ]
  },
  {
   "cell_type": "markdown",
   "metadata": {},
   "source": [
    "## 1. ***Data collection/ Data loading***"
   ]
  },
  {
   "cell_type": "code",
   "execution_count": 3,
   "metadata": {},
   "outputs": [],
   "source": [
    "df_2018 = pd.read_csv('startup_funding2018.csv')\n",
    "df_2019 = pd.read_csv('startup_funding2019.csv')\n",
    "df_2020 = pd.read_csv('startup_funding2020.csv')\n",
    "df_2021 = pd.read_csv('startup_funding2021.csv')"
   ]
  },
  {
   "cell_type": "markdown",
   "metadata": {},
   "source": [
    "## 2. ***Data Exploration***"
   ]
  },
  {
   "cell_type": "markdown",
   "metadata": {},
   "source": [
    "We would be exploring each dataset separately to understand it characteristics and clean where neccesary"
   ]
  },
  {
   "cell_type": "markdown",
   "metadata": {},
   "source": [
    "### ***2018 start-ups funds data exploration and cleaning***"
   ]
  },
  {
   "cell_type": "code",
   "execution_count": 4,
   "metadata": {},
   "outputs": [
    {
     "data": {
      "text/html": [
       "<div>\n",
       "<style scoped>\n",
       "    .dataframe tbody tr th:only-of-type {\n",
       "        vertical-align: middle;\n",
       "    }\n",
       "\n",
       "    .dataframe tbody tr th {\n",
       "        vertical-align: top;\n",
       "    }\n",
       "\n",
       "    .dataframe thead th {\n",
       "        text-align: right;\n",
       "    }\n",
       "</style>\n",
       "<table border=\"1\" class=\"dataframe\">\n",
       "  <thead>\n",
       "    <tr style=\"text-align: right;\">\n",
       "      <th></th>\n",
       "      <th>Company Name</th>\n",
       "      <th>Industry</th>\n",
       "      <th>Round/Series</th>\n",
       "      <th>Amount</th>\n",
       "      <th>Location</th>\n",
       "      <th>About Company</th>\n",
       "    </tr>\n",
       "  </thead>\n",
       "  <tbody>\n",
       "    <tr>\n",
       "      <th>0</th>\n",
       "      <td>TheCollegeFever</td>\n",
       "      <td>Brand Marketing, Event Promotion, Marketing, S...</td>\n",
       "      <td>Seed</td>\n",
       "      <td>250000</td>\n",
       "      <td>Bangalore, Karnataka, India</td>\n",
       "      <td>TheCollegeFever is a hub for fun, fiesta and f...</td>\n",
       "    </tr>\n",
       "    <tr>\n",
       "      <th>1</th>\n",
       "      <td>Happy Cow Dairy</td>\n",
       "      <td>Agriculture, Farming</td>\n",
       "      <td>Seed</td>\n",
       "      <td>₹40,000,000</td>\n",
       "      <td>Mumbai, Maharashtra, India</td>\n",
       "      <td>A startup which aggregates milk from dairy far...</td>\n",
       "    </tr>\n",
       "    <tr>\n",
       "      <th>2</th>\n",
       "      <td>MyLoanCare</td>\n",
       "      <td>Credit, Financial Services, Lending, Marketplace</td>\n",
       "      <td>Series A</td>\n",
       "      <td>₹65,000,000</td>\n",
       "      <td>Gurgaon, Haryana, India</td>\n",
       "      <td>Leading Online Loans Marketplace in India</td>\n",
       "    </tr>\n",
       "    <tr>\n",
       "      <th>3</th>\n",
       "      <td>PayMe India</td>\n",
       "      <td>Financial Services, FinTech</td>\n",
       "      <td>Angel</td>\n",
       "      <td>2000000</td>\n",
       "      <td>Noida, Uttar Pradesh, India</td>\n",
       "      <td>PayMe India is an innovative FinTech organizat...</td>\n",
       "    </tr>\n",
       "    <tr>\n",
       "      <th>4</th>\n",
       "      <td>Eunimart</td>\n",
       "      <td>E-Commerce Platforms, Retail, SaaS</td>\n",
       "      <td>Seed</td>\n",
       "      <td>—</td>\n",
       "      <td>Hyderabad, Andhra Pradesh, India</td>\n",
       "      <td>Eunimart is a one stop solution for merchants ...</td>\n",
       "    </tr>\n",
       "  </tbody>\n",
       "</table>\n",
       "</div>"
      ],
      "text/plain": [
       "      Company Name                                           Industry  \\\n",
       "0  TheCollegeFever  Brand Marketing, Event Promotion, Marketing, S...   \n",
       "1  Happy Cow Dairy                               Agriculture, Farming   \n",
       "2       MyLoanCare   Credit, Financial Services, Lending, Marketplace   \n",
       "3      PayMe India                        Financial Services, FinTech   \n",
       "4         Eunimart                 E-Commerce Platforms, Retail, SaaS   \n",
       "\n",
       "  Round/Series       Amount                          Location  \\\n",
       "0         Seed       250000       Bangalore, Karnataka, India   \n",
       "1         Seed  ₹40,000,000        Mumbai, Maharashtra, India   \n",
       "2     Series A  ₹65,000,000           Gurgaon, Haryana, India   \n",
       "3        Angel      2000000       Noida, Uttar Pradesh, India   \n",
       "4         Seed            —  Hyderabad, Andhra Pradesh, India   \n",
       "\n",
       "                                       About Company  \n",
       "0  TheCollegeFever is a hub for fun, fiesta and f...  \n",
       "1  A startup which aggregates milk from dairy far...  \n",
       "2          Leading Online Loans Marketplace in India  \n",
       "3  PayMe India is an innovative FinTech organizat...  \n",
       "4  Eunimart is a one stop solution for merchants ...  "
      ]
     },
     "execution_count": 4,
     "metadata": {},
     "output_type": "execute_result"
    }
   ],
   "source": [
    "# a view of the first 5 rows in the dataset\n",
    "\n",
    "df_2018.head()"
   ]
  },
  {
   "cell_type": "code",
   "execution_count": 5,
   "metadata": {},
   "outputs": [
    {
     "data": {
      "text/plain": [
       "Company Name     object\n",
       "Industry         object\n",
       "Round/Series     object\n",
       "Amount           object\n",
       "Location         object\n",
       "About Company    object\n",
       "dtype: object"
      ]
     },
     "execution_count": 5,
     "metadata": {},
     "output_type": "execute_result"
    }
   ],
   "source": [
    "# Checking the data types in the dataset\n",
    "\n",
    "df_2018.dtypes"
   ]
  },
  {
   "cell_type": "code",
   "execution_count": 6,
   "metadata": {},
   "outputs": [
    {
     "data": {
      "text/plain": [
       "Company Name     0\n",
       "Industry         0\n",
       "Round/Series     0\n",
       "Amount           0\n",
       "Location         0\n",
       "About Company    0\n",
       "dtype: int64"
      ]
     },
     "execution_count": 6,
     "metadata": {},
     "output_type": "execute_result"
    }
   ],
   "source": [
    "# Checking for missing values\n",
    "\n",
    "df_2018.isnull().sum()"
   ]
  },
  {
   "cell_type": "code",
   "execution_count": 7,
   "metadata": {},
   "outputs": [
    {
     "data": {
      "text/plain": [
       "Company Name\n",
       "False    525\n",
       "True       1\n",
       "Name: count, dtype: int64"
      ]
     },
     "execution_count": 7,
     "metadata": {},
     "output_type": "execute_result"
    }
   ],
   "source": [
    "# Checking for duplicate in the company name column.\n",
    "\n",
    "df_2018['Company Name'].duplicated().value_counts()"
   ]
  },
  {
   "cell_type": "code",
   "execution_count": 8,
   "metadata": {},
   "outputs": [
    {
     "name": "stderr",
     "output_type": "stream",
     "text": [
      "C:\\Users\\Domino\\AppData\\Local\\Temp\\ipykernel_36720\\2047782274.py:3: UserWarning: Boolean Series key will be reindexed to match DataFrame index.\n",
      "  df_2018[df_2018['Company Name'].duplicated(keep= False).sort_values()]\n"
     ]
    },
    {
     "data": {
      "text/html": [
       "<div>\n",
       "<style scoped>\n",
       "    .dataframe tbody tr th:only-of-type {\n",
       "        vertical-align: middle;\n",
       "    }\n",
       "\n",
       "    .dataframe tbody tr th {\n",
       "        vertical-align: top;\n",
       "    }\n",
       "\n",
       "    .dataframe thead th {\n",
       "        text-align: right;\n",
       "    }\n",
       "</style>\n",
       "<table border=\"1\" class=\"dataframe\">\n",
       "  <thead>\n",
       "    <tr style=\"text-align: right;\">\n",
       "      <th></th>\n",
       "      <th>Company Name</th>\n",
       "      <th>Industry</th>\n",
       "      <th>Round/Series</th>\n",
       "      <th>Amount</th>\n",
       "      <th>Location</th>\n",
       "      <th>About Company</th>\n",
       "    </tr>\n",
       "  </thead>\n",
       "  <tbody>\n",
       "    <tr>\n",
       "      <th>0</th>\n",
       "      <td>TheCollegeFever</td>\n",
       "      <td>Brand Marketing, Event Promotion, Marketing, S...</td>\n",
       "      <td>Seed</td>\n",
       "      <td>250000</td>\n",
       "      <td>Bangalore, Karnataka, India</td>\n",
       "      <td>TheCollegeFever is a hub for fun, fiesta and f...</td>\n",
       "    </tr>\n",
       "    <tr>\n",
       "      <th>348</th>\n",
       "      <td>TheCollegeFever</td>\n",
       "      <td>Brand Marketing, Event Promotion, Marketing, S...</td>\n",
       "      <td>Seed</td>\n",
       "      <td>250000</td>\n",
       "      <td>Bangalore, Karnataka, India</td>\n",
       "      <td>TheCollegeFever is a hub for fun, fiesta and f...</td>\n",
       "    </tr>\n",
       "  </tbody>\n",
       "</table>\n",
       "</div>"
      ],
      "text/plain": [
       "        Company Name                                           Industry  \\\n",
       "0    TheCollegeFever  Brand Marketing, Event Promotion, Marketing, S...   \n",
       "348  TheCollegeFever  Brand Marketing, Event Promotion, Marketing, S...   \n",
       "\n",
       "    Round/Series  Amount                     Location  \\\n",
       "0           Seed  250000  Bangalore, Karnataka, India   \n",
       "348         Seed  250000  Bangalore, Karnataka, India   \n",
       "\n",
       "                                         About Company  \n",
       "0    TheCollegeFever is a hub for fun, fiesta and f...  \n",
       "348  TheCollegeFever is a hub for fun, fiesta and f...  "
      ]
     },
     "execution_count": 8,
     "metadata": {},
     "output_type": "execute_result"
    }
   ],
   "source": [
    "# spooling the details of duplicated value in the company name column\n",
    "\n",
    "df_2018[df_2018['Company Name'].duplicated(keep= False).sort_values()]"
   ]
  },
  {
   "cell_type": "markdown",
   "metadata": {},
   "source": [
    "***Observation***\n",
    "This is a clear case of duplication. Let's drop one of the duplicated rows"
   ]
  },
  {
   "cell_type": "code",
   "execution_count": 9,
   "metadata": {},
   "outputs": [
    {
     "data": {
      "text/plain": [
       "0"
      ]
     },
     "execution_count": 9,
     "metadata": {},
     "output_type": "execute_result"
    }
   ],
   "source": [
    "# Dropping duplicated row based on the column company name\n",
    "\n",
    "df_2018.drop_duplicates(subset= ['Company Name'], keep= 'first', inplace= True, ignore_index= True)\n",
    "\n",
    "df_2018.duplicated().sum()"
   ]
  },
  {
   "cell_type": "markdown",
   "metadata": {},
   "source": [
    "***Checking the Industry Column***"
   ]
  },
  {
   "cell_type": "code",
   "execution_count": 10,
   "metadata": {},
   "outputs": [
    {
     "data": {
      "text/plain": [
       "51               Media and Entertainment, News, Outdoors\n",
       "113                                    EdTech, Education\n",
       "137                                             Hospital\n",
       "243                                                    —\n",
       "286    Basketball, Cricket, Cycling, eSports, Fitness...\n",
       "382    Finance, FinTech, Payments, Property Developme...\n",
       "121                                                    —\n",
       "231    Dietary Supplements, Food and Beverage, Health...\n",
       "47                        Fitness, Health Care, Wellness\n",
       "134                            Consumer Lending, FinTech\n",
       "312                                Digital Entertainment\n",
       "110              E-Learning, Education, Higher Education\n",
       "379                    Apps, Financial Services, FinTech\n",
       "71                            Consulting, Retail, Social\n",
       "55                                  Health Care, Medical\n",
       "Name: Industry, dtype: object"
      ]
     },
     "execution_count": 10,
     "metadata": {},
     "output_type": "execute_result"
    }
   ],
   "source": [
    "# Checking the Industry column\n",
    "\n",
    "df_2018['Industry'].sample(15)"
   ]
  },
  {
   "cell_type": "markdown",
   "metadata": {},
   "source": [
    "***Observation***\n",
    "Sampling through the industry column the points below were worth noting\n",
    "\n",
    "- The Industry column featured sectors, subsectors among others. However, we are going to pick the first index which is predominantly sectors.\n",
    "- Furthermore, some were represented with \"-\". We will replace them with nan"
   ]
  },
  {
   "cell_type": "code",
   "execution_count": 11,
   "metadata": {},
   "outputs": [],
   "source": [
    "# Split the first index (sector) in the industry column from the others\n",
    "\n",
    "df_2018['Industry'] = df_2018.Industry.str.split(\",\").str[0]\n",
    "\n",
    "# Replacing \"-\" with nan\n",
    "\n",
    "df_2018['Industry'] = df_2018.Industry.replace(\"—\" ,  np.nan)"
   ]
  },
  {
   "cell_type": "code",
   "execution_count": 12,
   "metadata": {},
   "outputs": [
    {
     "data": {
      "text/plain": [
       "184               Education\n",
       "25              Agriculture\n",
       "446         Cloud Computing\n",
       "38               E-Commerce\n",
       "314                Delivery\n",
       "145              E-Learning\n",
       "79                   Mobile\n",
       "471                     NaN\n",
       "322          Medical Device\n",
       "8      Information Services\n",
       "480              Industrial\n",
       "131           Manufacturing\n",
       "156                 Banking\n",
       "515       Food and Beverage\n",
       "12                     Apps\n",
       "284    Information Services\n",
       "166           Digital Media\n",
       "64         Trading Platform\n",
       "426             Health Care\n",
       "351            Smart Cities\n",
       "Name: Industry, dtype: object"
      ]
     },
     "execution_count": 12,
     "metadata": {},
     "output_type": "execute_result"
    }
   ],
   "source": [
    "# Sampling the Industry section to verify changes\n",
    "\n",
    "df_2018['Industry'].sample(20)"
   ]
  },
  {
   "cell_type": "markdown",
   "metadata": {},
   "source": [
    "***Checking the Round/ Series Column***"
   ]
  },
  {
   "cell_type": "code",
   "execution_count": 13,
   "metadata": {},
   "outputs": [
    {
     "data": {
      "text/plain": [
       "array(['Seed', 'Series A', 'Angel', 'Series B', 'Pre-Seed',\n",
       "       'Private Equity', 'Venture - Series Unknown', 'Grant',\n",
       "       'Debt Financing', 'Post-IPO Debt', 'Series H', 'Series C',\n",
       "       'Series E', 'Corporate Round', 'Undisclosed',\n",
       "       'https://docs.google.com/spreadsheets/d/1x9ziNeaz6auNChIHnMI8U6kS7knTr3byy_YBGfQaoUA/edit#gid=1861303593',\n",
       "       'Series D', 'Secondary Market', 'Post-IPO Equity',\n",
       "       'Non-equity Assistance', 'Funding Round'], dtype=object)"
      ]
     },
     "execution_count": 13,
     "metadata": {},
     "output_type": "execute_result"
    }
   ],
   "source": [
    "df_2018['Round/Series'].unique()"
   ]
  },
  {
   "cell_type": "markdown",
   "metadata": {},
   "source": [
    "***Observation***: A look into the unique values of the Round/ Series Column, we noticed two of the are not associated with the column\n",
    "- Undisclosed. Since the funding rounds were undisclosed we are going to rplace them with Nan\n",
    "- Accessing the link https://docs.google.com/spreadsheets/d/1x9ziNeaz6auNChIHnMI8U6kS7knTr3byy_YBGfQaoUA/edit#gid=1861303593 informs us of it being seed funding"
   ]
  },
  {
   "cell_type": "code",
   "execution_count": 14,
   "metadata": {},
   "outputs": [],
   "source": [
    "# Replacing Undisclosed with nan\n",
    "df_2018['Round/Series'] = df_2018['Round/Series'].replace(\"Undisclosed\", np.nan)"
   ]
  },
  {
   "cell_type": "code",
   "execution_count": 15,
   "metadata": {},
   "outputs": [],
   "source": [
    "# Replacing the link with seed\n",
    "df_2018['Round/Series'] = df_2018['Round/Series'].replace(\"https://docs.google.com/spreadsheets/d/1x9ziNeaz6auNChIHnMI8U6kS7knTr3byy_YBGfQaoUA/edit#gid=1861303593\", \"Seed\")"
   ]
  },
  {
   "cell_type": "code",
   "execution_count": 16,
   "metadata": {},
   "outputs": [
    {
     "data": {
      "text/plain": [
       "array(['Seed', 'Series A', 'Angel', 'Series B', 'Pre-Seed',\n",
       "       'Private Equity', 'Venture - Series Unknown', 'Grant',\n",
       "       'Debt Financing', 'Post-IPO Debt', 'Series H', 'Series C',\n",
       "       'Series E', 'Corporate Round', nan, 'Series D', 'Secondary Market',\n",
       "       'Post-IPO Equity', 'Non-equity Assistance', 'Funding Round'],\n",
       "      dtype=object)"
      ]
     },
     "execution_count": 16,
     "metadata": {},
     "output_type": "execute_result"
    }
   ],
   "source": [
    "# Verifying changes made in the Round/ Series column\n",
    "\n",
    "df_2018['Round/Series'].unique()"
   ]
  },
  {
   "cell_type": "markdown",
   "metadata": {},
   "source": [
    "***Checking the Amount Column***"
   ]
  },
  {
   "cell_type": "code",
   "execution_count": 17,
   "metadata": {},
   "outputs": [
    {
     "data": {
      "text/plain": [
       "221       ₹22,500,000\n",
       "280                 —\n",
       "332           1000000\n",
       "352        $1,100,000\n",
       "241       ₹19,200,000\n",
       "16             150000\n",
       "251       ₹35,000,000\n",
       "222        ₹5,000,000\n",
       "268       ₹16,600,000\n",
       "41             150000\n",
       "440          30000000\n",
       "92     ₹2,000,000,000\n",
       "331                 —\n",
       "259           1000000\n",
       "189           6830000\n",
       "458           2500000\n",
       "253      ₹100,000,000\n",
       "455      ₹280,000,000\n",
       "70            ₹60,000\n",
       "245           1000000\n",
       "Name: Amount, dtype: object"
      ]
     },
     "execution_count": 17,
     "metadata": {},
     "output_type": "execute_result"
    }
   ],
   "source": [
    "# Sampling the Amount column\n",
    "\n",
    "df_2018.Amount.sample(20)"
   ]
  },
  {
   "cell_type": "markdown",
   "metadata": {},
   "source": [
    "***Observatoin***: Sampling through the Amount column, the following observations were made\n",
    "- Some funds received were in rupees (₹). they must be converted to dollar using the rate in 2018\n",
    "- The dollar signs ($) preceeding some of the figures need to be removed\n",
    "- — needs to be replaced with nan\n",
    "- Commas as thousand separators need to be removed"
   ]
  },
  {
   "cell_type": "markdown",
   "metadata": {},
   "source": [
    "***Handling observation made***"
   ]
  },
  {
   "cell_type": "code",
   "execution_count": 18,
   "metadata": {},
   "outputs": [],
   "source": [
    "# Define conversion rate\n",
    "conversion_rate = 0.0146\n",
    "\n",
    "#Function to clean and/ convert amount column\n",
    "\n",
    "def clean_and_convert(Amount):\n",
    "    \n",
    "    if Amount == \"—\":\n",
    "        \n",
    "        return float('nan')\n",
    "    \n",
    "    elif '₹' in Amount:\n",
    "        \n",
    "        Amount = Amount.replace('₹', '').replace(',', '')\n",
    "        \n",
    "        return float(Amount) * conversion_rate\n",
    "    \n",
    "    else:\n",
    "        \n",
    "        Amount = Amount.replace('$', '').replace(',', '')\n",
    "        \n",
    "        return float(Amount)\n",
    "    "
   ]
  },
  {
   "cell_type": "code",
   "execution_count": 19,
   "metadata": {},
   "outputs": [],
   "source": [
    "# Applying the cleaning and conversion function to the amount column\n",
    "\n",
    "df_2018['Amount'] = df_2018['Amount'].apply(clean_and_convert)"
   ]
  },
  {
   "cell_type": "code",
   "execution_count": 20,
   "metadata": {},
   "outputs": [
    {
     "data": {
      "text/plain": [
       "361      6000000.0\n",
       "390      1022000.0\n",
       "127     36500000.0\n",
       "5        1600000.0\n",
       "467      3500000.0\n",
       "249      4200000.0\n",
       "114      2400000.0\n",
       "146     14000000.0\n",
       "139            NaN\n",
       "208            NaN\n",
       "352      1100000.0\n",
       "431            NaN\n",
       "235       400000.0\n",
       "507            NaN\n",
       "515     20440000.0\n",
       "105      8030000.0\n",
       "478            NaN\n",
       "395      5000000.0\n",
       "520    225000000.0\n",
       "282            NaN\n",
       "Name: Amount, dtype: float64"
      ]
     },
     "execution_count": 20,
     "metadata": {},
     "output_type": "execute_result"
    }
   ],
   "source": [
    "# Sampling to verify changes has been effected\n",
    "\n",
    "df_2018['Amount'].sample(20)"
   ]
  },
  {
   "cell_type": "markdown",
   "metadata": {},
   "source": [
    "***Checking the Location Column***"
   ]
  },
  {
   "cell_type": "code",
   "execution_count": 21,
   "metadata": {},
   "outputs": [
    {
     "data": {
      "text/plain": [
       "250       Jaipur, Rajasthan, India\n",
       "372        Gurgaon, Haryana, India\n",
       "475    Bengaluru, Karnataka, India\n",
       "104     Mumbai, Maharashtra, India\n",
       "278    Bengaluru, Karnataka, India\n",
       "437    Bengaluru, Karnataka, India\n",
       "332    Bengaluru, Karnataka, India\n",
       "286        New Delhi, Delhi, India\n",
       "130    Bangalore, Karnataka, India\n",
       "175    Bengaluru, Karnataka, India\n",
       "25           Mohali, Punjab, India\n",
       "128        New Delhi, Delhi, India\n",
       "186      Ahmedabad, Gujarat, India\n",
       "137     Mumbai, Maharashtra, India\n",
       "146       Pune, Maharashtra, India\n",
       "401    Bengaluru, Karnataka, India\n",
       "398    Bangalore, Karnataka, India\n",
       "98          Kota, Rajasthan, India\n",
       "341       Pune, Maharashtra, India\n",
       "322    Bangalore, Karnataka, India\n",
       "Name: Location, dtype: object"
      ]
     },
     "execution_count": 21,
     "metadata": {},
     "output_type": "execute_result"
    }
   ],
   "source": [
    "# Sampling the location column\n",
    "\n",
    "df_2018.Location.sample(20)"
   ]
  },
  {
   "cell_type": "code",
   "execution_count": 22,
   "metadata": {},
   "outputs": [
    {
     "ename": "NameError",
     "evalue": "name 'sd' is not defined",
     "output_type": "error",
     "traceback": [
      "\u001b[1;31m---------------------------------------------------------------------------\u001b[0m",
      "\u001b[1;31mNameError\u001b[0m                                 Traceback (most recent call last)",
      "Cell \u001b[1;32mIn[22], line 1\u001b[0m\n\u001b[1;32m----> 1\u001b[0m \u001b[43msd\u001b[49m\n",
      "\u001b[1;31mNameError\u001b[0m: name 'sd' is not defined"
     ]
    }
   ],
   "source": [
    "sd"
   ]
  },
  {
   "cell_type": "code",
   "execution_count": 24,
   "metadata": {},
   "outputs": [
    {
     "data": {
      "text/html": [
       "<div>\n",
       "<style scoped>\n",
       "    .dataframe tbody tr th:only-of-type {\n",
       "        vertical-align: middle;\n",
       "    }\n",
       "\n",
       "    .dataframe tbody tr th {\n",
       "        vertical-align: top;\n",
       "    }\n",
       "\n",
       "    .dataframe thead th {\n",
       "        text-align: right;\n",
       "    }\n",
       "</style>\n",
       "<table border=\"1\" class=\"dataframe\">\n",
       "  <thead>\n",
       "    <tr style=\"text-align: right;\">\n",
       "      <th></th>\n",
       "      <th>Company Name</th>\n",
       "      <th>Industry</th>\n",
       "      <th>Round/Series</th>\n",
       "      <th>Amount</th>\n",
       "      <th>Location</th>\n",
       "      <th>About Company</th>\n",
       "      <th>City</th>\n",
       "      <th>State</th>\n",
       "    </tr>\n",
       "  </thead>\n",
       "  <tbody>\n",
       "    <tr>\n",
       "      <th>0</th>\n",
       "      <td>TheCollegeFever</td>\n",
       "      <td>Brand Marketing</td>\n",
       "      <td>Seed</td>\n",
       "      <td>250000.0</td>\n",
       "      <td>Bangalore, Karnataka, India</td>\n",
       "      <td>TheCollegeFever is a hub for fun, fiesta and f...</td>\n",
       "      <td>Bangalore</td>\n",
       "      <td>Karnataka</td>\n",
       "    </tr>\n",
       "    <tr>\n",
       "      <th>1</th>\n",
       "      <td>Happy Cow Dairy</td>\n",
       "      <td>Agriculture</td>\n",
       "      <td>Seed</td>\n",
       "      <td>584000.0</td>\n",
       "      <td>Mumbai, Maharashtra, India</td>\n",
       "      <td>A startup which aggregates milk from dairy far...</td>\n",
       "      <td>Mumbai</td>\n",
       "      <td>Maharashtra</td>\n",
       "    </tr>\n",
       "    <tr>\n",
       "      <th>2</th>\n",
       "      <td>MyLoanCare</td>\n",
       "      <td>Credit</td>\n",
       "      <td>Series A</td>\n",
       "      <td>949000.0</td>\n",
       "      <td>Gurgaon, Haryana, India</td>\n",
       "      <td>Leading Online Loans Marketplace in India</td>\n",
       "      <td>Gurgaon</td>\n",
       "      <td>Haryana</td>\n",
       "    </tr>\n",
       "    <tr>\n",
       "      <th>3</th>\n",
       "      <td>PayMe India</td>\n",
       "      <td>Financial Services</td>\n",
       "      <td>Angel</td>\n",
       "      <td>2000000.0</td>\n",
       "      <td>Noida, Uttar Pradesh, India</td>\n",
       "      <td>PayMe India is an innovative FinTech organizat...</td>\n",
       "      <td>Noida</td>\n",
       "      <td>Uttar Pradesh</td>\n",
       "    </tr>\n",
       "    <tr>\n",
       "      <th>4</th>\n",
       "      <td>Eunimart</td>\n",
       "      <td>E-Commerce Platforms</td>\n",
       "      <td>Seed</td>\n",
       "      <td>NaN</td>\n",
       "      <td>Hyderabad, Andhra Pradesh, India</td>\n",
       "      <td>Eunimart is a one stop solution for merchants ...</td>\n",
       "      <td>Hyderabad</td>\n",
       "      <td>Andhra Pradesh</td>\n",
       "    </tr>\n",
       "    <tr>\n",
       "      <th>...</th>\n",
       "      <td>...</td>\n",
       "      <td>...</td>\n",
       "      <td>...</td>\n",
       "      <td>...</td>\n",
       "      <td>...</td>\n",
       "      <td>...</td>\n",
       "      <td>...</td>\n",
       "      <td>...</td>\n",
       "    </tr>\n",
       "    <tr>\n",
       "      <th>520</th>\n",
       "      <td>Udaan</td>\n",
       "      <td>B2B</td>\n",
       "      <td>Series C</td>\n",
       "      <td>225000000.0</td>\n",
       "      <td>Bangalore, Karnataka, India</td>\n",
       "      <td>Udaan is a B2B trade platform, designed specif...</td>\n",
       "      <td>Bangalore</td>\n",
       "      <td>Karnataka</td>\n",
       "    </tr>\n",
       "    <tr>\n",
       "      <th>521</th>\n",
       "      <td>Happyeasygo Group</td>\n",
       "      <td>Tourism</td>\n",
       "      <td>Series A</td>\n",
       "      <td>NaN</td>\n",
       "      <td>Haryana, Haryana, India</td>\n",
       "      <td>HappyEasyGo is an online travel domain.</td>\n",
       "      <td>Haryana</td>\n",
       "      <td>Haryana</td>\n",
       "    </tr>\n",
       "    <tr>\n",
       "      <th>522</th>\n",
       "      <td>Mombay</td>\n",
       "      <td>Food and Beverage</td>\n",
       "      <td>Seed</td>\n",
       "      <td>7500.0</td>\n",
       "      <td>Mumbai, Maharashtra, India</td>\n",
       "      <td>Mombay is a unique opportunity for housewives ...</td>\n",
       "      <td>Mumbai</td>\n",
       "      <td>Maharashtra</td>\n",
       "    </tr>\n",
       "    <tr>\n",
       "      <th>523</th>\n",
       "      <td>Droni Tech</td>\n",
       "      <td>Information Technology</td>\n",
       "      <td>Seed</td>\n",
       "      <td>511000.0</td>\n",
       "      <td>Mumbai, Maharashtra, India</td>\n",
       "      <td>Droni Tech manufacture UAVs and develop softwa...</td>\n",
       "      <td>Mumbai</td>\n",
       "      <td>Maharashtra</td>\n",
       "    </tr>\n",
       "    <tr>\n",
       "      <th>524</th>\n",
       "      <td>Netmeds</td>\n",
       "      <td>Biotechnology</td>\n",
       "      <td>Series C</td>\n",
       "      <td>35000000.0</td>\n",
       "      <td>Chennai, Tamil Nadu, India</td>\n",
       "      <td>Welcome to India's most convenient pharmacy!</td>\n",
       "      <td>Chennai</td>\n",
       "      <td>Tamil Nadu</td>\n",
       "    </tr>\n",
       "  </tbody>\n",
       "</table>\n",
       "<p>525 rows × 8 columns</p>\n",
       "</div>"
      ],
      "text/plain": [
       "          Company Name                Industry Round/Series       Amount  \\\n",
       "0      TheCollegeFever         Brand Marketing         Seed     250000.0   \n",
       "1      Happy Cow Dairy             Agriculture         Seed     584000.0   \n",
       "2           MyLoanCare                  Credit     Series A     949000.0   \n",
       "3          PayMe India      Financial Services        Angel    2000000.0   \n",
       "4             Eunimart    E-Commerce Platforms         Seed          NaN   \n",
       "..                 ...                     ...          ...          ...   \n",
       "520              Udaan                     B2B     Series C  225000000.0   \n",
       "521  Happyeasygo Group                 Tourism     Series A          NaN   \n",
       "522             Mombay       Food and Beverage         Seed       7500.0   \n",
       "523         Droni Tech  Information Technology         Seed     511000.0   \n",
       "524            Netmeds           Biotechnology     Series C   35000000.0   \n",
       "\n",
       "                             Location  \\\n",
       "0         Bangalore, Karnataka, India   \n",
       "1          Mumbai, Maharashtra, India   \n",
       "2             Gurgaon, Haryana, India   \n",
       "3         Noida, Uttar Pradesh, India   \n",
       "4    Hyderabad, Andhra Pradesh, India   \n",
       "..                                ...   \n",
       "520       Bangalore, Karnataka, India   \n",
       "521           Haryana, Haryana, India   \n",
       "522        Mumbai, Maharashtra, India   \n",
       "523        Mumbai, Maharashtra, India   \n",
       "524        Chennai, Tamil Nadu, India   \n",
       "\n",
       "                                         About Company       City  \\\n",
       "0    TheCollegeFever is a hub for fun, fiesta and f...  Bangalore   \n",
       "1    A startup which aggregates milk from dairy far...     Mumbai   \n",
       "2            Leading Online Loans Marketplace in India    Gurgaon   \n",
       "3    PayMe India is an innovative FinTech organizat...      Noida   \n",
       "4    Eunimart is a one stop solution for merchants ...  Hyderabad   \n",
       "..                                                 ...        ...   \n",
       "520  Udaan is a B2B trade platform, designed specif...  Bangalore   \n",
       "521            HappyEasyGo is an online travel domain.    Haryana   \n",
       "522  Mombay is a unique opportunity for housewives ...     Mumbai   \n",
       "523  Droni Tech manufacture UAVs and develop softwa...     Mumbai   \n",
       "524       Welcome to India's most convenient pharmacy!    Chennai   \n",
       "\n",
       "              State  \n",
       "0         Karnataka  \n",
       "1       Maharashtra  \n",
       "2           Haryana  \n",
       "3     Uttar Pradesh  \n",
       "4    Andhra Pradesh  \n",
       "..              ...  \n",
       "520       Karnataka  \n",
       "521         Haryana  \n",
       "522     Maharashtra  \n",
       "523     Maharashtra  \n",
       "524      Tamil Nadu  \n",
       "\n",
       "[525 rows x 8 columns]"
      ]
     },
     "execution_count": 24,
     "metadata": {},
     "output_type": "execute_result"
    }
   ],
   "source": [
    "# Splitting Location into City and State\n",
    "df_2018[['City', 'State']] = df_2018['Location'].str.split(', ', expand=True)[[0, 1]]\n",
    "\n",
    "# Displaying the DataFrame\n",
    "df_2018"
   ]
  }
 ],
 "metadata": {
  "kernelspec": {
   "display_name": "Python 3",
   "language": "python",
   "name": "python3"
  },
  "language_info": {
   "codemirror_mode": {
    "name": "ipython",
    "version": 3
   },
   "file_extension": ".py",
   "mimetype": "text/x-python",
   "name": "python",
   "nbconvert_exporter": "python",
   "pygments_lexer": "ipython3",
   "version": "3.12.3"
  }
 },
 "nbformat": 4,
 "nbformat_minor": 2
}
